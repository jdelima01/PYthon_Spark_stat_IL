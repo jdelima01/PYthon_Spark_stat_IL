{
  "nbformat": 4,
  "nbformat_minor": 0,
  "metadata": {
    "colab": {
      "provenance": [],
      "authorship_tag": "ABX9TyPxqV94V5FFtJ9OT/Vxta/k",
      "include_colab_link": true
    },
    "kernelspec": {
      "name": "python3",
      "display_name": "Python 3"
    },
    "language_info": {
      "name": "python"
    }
  },
  "cells": [
    {
      "cell_type": "markdown",
      "metadata": {
        "id": "view-in-github",
        "colab_type": "text"
      },
      "source": [
        "<a href=\"https://colab.research.google.com/github/jdelima01/PYthon_Spark_stat_IL/blob/main/Spark.ipynb\" target=\"_parent\"><img src=\"https://colab.research.google.com/assets/colab-badge.svg\" alt=\"Open In Colab\"/></a>"
      ]
    },
    {
      "cell_type": "markdown",
      "source": [
        "Instalando JDK 8, Hadoop e Spark"
      ],
      "metadata": {
        "id": "Qq4aRSCowgDq"
      }
    },
    {
      "cell_type": "code",
      "execution_count": 1,
      "metadata": {
        "colab": {
          "base_uri": "https://localhost:8080/"
        },
        "id": "0Vj0Z_cvvCWQ",
        "outputId": "508f1c13-cfa4-4a85-bbae-8f0ba94c29ad"
      },
      "outputs": [
        {
          "output_type": "stream",
          "name": "stdout",
          "text": [
            "\u001b[2K     \u001b[90m━━━━━━━━━━━━━━━━━━━━━━━━━━━━━━━━━━━━━━━\u001b[0m \u001b[32m281.4/281.4 MB\u001b[0m \u001b[31m4.6 MB/s\u001b[0m eta \u001b[36m0:00:00\u001b[0m\n",
            "\u001b[?25h  Preparing metadata (setup.py) ... \u001b[?25l\u001b[?25hdone\n",
            "\u001b[2K     \u001b[90m━━━━━━━━━━━━━━━━━━━━━━━━━━━━━━━━━━━━━━\u001b[0m \u001b[32m199.7/199.7 KB\u001b[0m \u001b[31m19.2 MB/s\u001b[0m eta \u001b[36m0:00:00\u001b[0m\n",
            "\u001b[?25h  Building wheel for pyspark (setup.py) ... \u001b[?25l\u001b[?25hdone\n"
          ]
        }
      ],
      "source": [
        "!apt-get install openjdk-8-jdk-headless -qq > /dev/null\n",
        "!wget -q https://downloads.apache.org/spark/spark-3.3.2/spark-3.3.2-bin-hadoop3.tgz\n",
        "\n",
        "#Verificar as versões disponíveis no site do Apache Foudation\n",
        "\n",
        "!tar xf spark-3.3.2-bin-hadoop3.tgz\n",
        "\n",
        "!pip install -q pyspark\n",
        "!pip install -q findspark\n",
        "\n"
      ]
    },
    {
      "cell_type": "markdown",
      "source": [
        "Definindo variáveis de ambiente"
      ],
      "metadata": {
        "id": "ag6nBo2awrIg"
      }
    },
    {
      "cell_type": "code",
      "source": [
        "import os\n",
        "\n",
        "os.environ[\"JAVA_HOME\"] = \"/usr/lib/jvm/java-8-openjdk-amd64\"\n",
        "#os.environ[\"SPARK_HOME\"] = \"/content/spark-3.3.2-bin-hadoop3\"\n",
        "\n",
        "import findspark\n",
        "\n",
        "#Em branco para procurar onde seja possível\n",
        "print(findspark.init(spark_home=\"\"))\n"
      ],
      "metadata": {
        "colab": {
          "base_uri": "https://localhost:8080/"
        },
        "id": "YH-spCWXvibK",
        "outputId": "cb0e03ca-c7bd-4ec0-c54d-bc61dc891ec2"
      },
      "execution_count": 2,
      "outputs": [
        {
          "output_type": "stream",
          "name": "stdout",
          "text": [
            "None\n"
          ]
        }
      ]
    },
    {
      "cell_type": "markdown",
      "source": [
        "Ler aquivo de dados de texto plano com Spark"
      ],
      "metadata": {
        "id": "YJJvTYLV1e2w"
      }
    },
    {
      "cell_type": "code",
      "source": [
        "from pyspark.sql import SparkSession\n",
        "\n",
        "\n",
        "spark = SparkSession.builder.master('local[*]').appName('Iniciando com Spark').config('spark.ui.port', '4050').getOrCreate()\n",
        "\n",
        "dataset = spark.read.csv('/content/sample_data/california_housing_test.csv',inferSchema=True, header =True)\n",
        "dataset.printSchema()\n",
        "dataset.head()\n",
        "\n",
        "spark.stop()\n",
        "\n"
      ],
      "metadata": {
        "colab": {
          "base_uri": "https://localhost:8080/"
        },
        "id": "jd-DaB1JzShE",
        "outputId": "7c88f216-c116-466e-f6d9-6014fcdae861"
      },
      "execution_count": 3,
      "outputs": [
        {
          "output_type": "stream",
          "name": "stdout",
          "text": [
            "root\n",
            " |-- longitude: double (nullable = true)\n",
            " |-- latitude: double (nullable = true)\n",
            " |-- housing_median_age: double (nullable = true)\n",
            " |-- total_rooms: double (nullable = true)\n",
            " |-- total_bedrooms: double (nullable = true)\n",
            " |-- population: double (nullable = true)\n",
            " |-- households: double (nullable = true)\n",
            " |-- median_income: double (nullable = true)\n",
            " |-- median_house_value: double (nullable = true)\n",
            "\n"
          ]
        }
      ]
    },
    {
      "cell_type": "markdown",
      "source": [
        "PySpark"
      ],
      "metadata": {
        "id": "qqS5FpyP1k_1"
      }
    },
    {
      "cell_type": "code",
      "source": [
        "from pyspark import SparkContext\n",
        "\n",
        "\n",
        "spark_contex = SparkContext()\n",
        "print(spark_contex)\n",
        "print(spark_contex.getLocalProperty)\n",
        "print(spark_contex.version)\n",
        "\n",
        "spark_contex.stop()"
      ],
      "metadata": {
        "colab": {
          "base_uri": "https://localhost:8080/"
        },
        "id": "6ZefuhCe1llB",
        "outputId": "49be7119-3626-4532-d8b1-ded0f7dbca8e"
      },
      "execution_count": 4,
      "outputs": [
        {
          "output_type": "stream",
          "name": "stdout",
          "text": [
            "<SparkContext master=local[*] appName=Iniciando com Spark>\n",
            "<bound method SparkContext.getLocalProperty of <SparkContext master=local[*] appName=Iniciando com Spark>>\n",
            "3.3.2\n"
          ]
        }
      ]
    },
    {
      "cell_type": "code",
      "source": [
        "from pyspark.sql import SparkSession \n",
        "spark = SparkSession.builder.getOrCreate() # Create my_spark\n",
        "print(spark) # Print my_spark\n",
        "\n",
        "dataset = spark.read.csv('/content/sample_data/california_housing_test.csv',inferSchema=True, header =True)\n",
        "dataset.head()\n",
        "\n",
        "dataset.createOrReplaceTempView(\"tabela_temporaria\")\n",
        "print(spark.catalog.listTables()) \n",
        "\n",
        "query = \"FROM tabela_temporaria SELECT longitude, latitude LIMIT 10\"  \n",
        "saida = spark.sql(query)  \n",
        "saida.show() "
      ],
      "metadata": {
        "colab": {
          "base_uri": "https://localhost:8080/"
        },
        "id": "B4mYN2znCI4H",
        "outputId": "17a27590-1774-4baa-deb9-e49561eef3d8"
      },
      "execution_count": 11,
      "outputs": [
        {
          "output_type": "stream",
          "name": "stdout",
          "text": [
            "<pyspark.sql.session.SparkSession object at 0x7fa177e490a0>\n",
            "[Table(name='tabela_temporaria', database=None, description=None, tableType='TEMPORARY', isTemporary=True)]\n",
            "+---------+--------+\n",
            "|longitude|latitude|\n",
            "+---------+--------+\n",
            "|  -122.05|   37.37|\n",
            "|   -118.3|   34.26|\n",
            "|  -117.81|   33.78|\n",
            "|  -118.36|   33.82|\n",
            "|  -119.67|   36.33|\n",
            "|  -119.56|   36.51|\n",
            "|  -121.43|   38.63|\n",
            "|  -120.65|   35.48|\n",
            "|  -122.84|    38.4|\n",
            "|  -118.02|   34.08|\n",
            "+---------+--------+\n",
            "\n"
          ]
        }
      ]
    },
    {
      "cell_type": "markdown",
      "source": [
        "Data Frames (Spark - SQL)"
      ],
      "metadata": {
        "id": "qVh0Xo8ftzH0"
      }
    },
    {
      "cell_type": "code",
      "source": [
        "#Comando AQL\n",
        "query1 = \"SELECT MAX(total_rooms) as maximo_quartos FROM tabela_temporaria\"\n",
        "\n",
        "#Spark SQL\n",
        "q_maximo_quartos = spark.sql(query1)\n",
        "pd_maximo_quartos = q_maximo_quartos.toPandas()\n",
        "print('A quantidade máxima de quartos é: {}'.format(pd_maximo_quartos['maximo_quartos']))\n",
        "qtd_maximo_quartos = int(pd_maximo_quartos.loc[0,'maximo_quartos'])\n"
      ],
      "metadata": {
        "colab": {
          "base_uri": "https://localhost:8080/"
        },
        "id": "qAd6iNH3ty2v",
        "outputId": "00c1d37e-6112-49da-f968-93895bdcb31c"
      },
      "execution_count": 12,
      "outputs": [
        {
          "output_type": "stream",
          "name": "stdout",
          "text": [
            "A quantidade máxima de quartos é: 0    30450.0\n",
            "Name: maximo_quartos, dtype: float64\n"
          ]
        }
      ]
    },
    {
      "cell_type": "code",
      "source": [
        "#comando SQL\n",
        "query2 = \"SELECT longitude, latitude FROM tabela_temporaria WHERE total_rooms = \"+str(qtd_maximo_quartos)\n",
        "\n",
        "#Spark SQL\n",
        "localizacao_maximo_quartos = spark.sql(query2)\n",
        "\n",
        "#PConversão para andas\n",
        "pd_localizacao_maximo_quartos = localizacao_maximo_quartos.toPandas()\n",
        "print(pd_localizacao_maximo_quartos.head()) "
      ],
      "metadata": {
        "colab": {
          "base_uri": "https://localhost:8080/"
        },
        "id": "_7gqtpKrt68g",
        "outputId": "9c9ace29-8acc-4cc0-dd94-0dd695b131f3"
      },
      "execution_count": 17,
      "outputs": [
        {
          "output_type": "stream",
          "name": "stdout",
          "text": [
            "   longitude  latitude\n",
            "0     -117.2     33.58\n"
          ]
        }
      ]
    },
    {
      "cell_type": "markdown",
      "source": [
        "Pandas e SparK"
      ],
      "metadata": {
        "id": "STYhQvTBwVT5"
      }
    },
    {
      "cell_type": "code",
      "source": [
        "import pandas as pd\n",
        "import numpy as np\n",
        "media = 0; desvio_padrao=0.1 \n",
        "\n",
        "#Criação de um DF Pandas randomico com NumPy\n",
        "pd_temporario = pd.DataFrame(np.random.normal(media,desvio_padrao,100))\n",
        "#print(pd_temporario)\n",
        "\n",
        "#Conversão para o Spark\n",
        "spark_temporario = spark.createDataFrame(pd_temporario)\n",
        "print(spark.catalog.listTables())\n",
        "\n",
        "#Agregar o novo DataFrame o set do Spark\n",
        "spark_temporario.createOrReplaceTempView(\"nova_tabela_temporaria\")\n",
        "print(spark.catalog.listTables())\n",
        "print(spark.table(\"nova_tabela_temporaria\"))\n",
        "\n",
        "spark.stop()\n"
      ],
      "metadata": {
        "colab": {
          "base_uri": "https://localhost:8080/"
        },
        "id": "6Ab0jAjcwW5h",
        "outputId": "30e11f49-9a81-4455-e9d3-6eda72211e92"
      },
      "execution_count": 32,
      "outputs": [
        {
          "output_type": "stream",
          "name": "stdout",
          "text": [
            "[Table(name='nova_tabela_temporaria', database=None, description=None, tableType='TEMPORARY', isTemporary=True), Table(name='tabela_temporaria', database=None, description=None, tableType='TEMPORARY', isTemporary=True)]\n",
            "[Table(name='nova_tabela_temporaria', database=None, description=None, tableType='TEMPORARY', isTemporary=True), Table(name='tabela_temporaria', database=None, description=None, tableType='TEMPORARY', isTemporary=True)]\n",
            "DataFrame[0: double]\n"
          ]
        }
      ]
    },
    {
      "cell_type": "markdown",
      "source": [
        "MapReduce"
      ],
      "metadata": {
        "id": "Y_yQbydw8qo_"
      }
    },
    {
      "cell_type": "code",
      "source": [
        "from numpy.core.fromnumeric import size\n",
        "from posixpath import split\n",
        "from io import FileIO\n",
        "from pyspark import SparkContext\n",
        "#Estancia uma contexto Spark\n",
        "spark_contex.stop()\n",
        "spark_contex = SparkContext()\n",
        "\n",
        "#Criação de conjunto de dados numéricos ordenados\n",
        "vetor = np.array([10, 20, 30, 40, 50])\n",
        "#print(vetor)\n",
        "\n",
        "#Cria um RRD com o vetor\n",
        "paralelo = spark_contex.parallelize(vetor)\n",
        "#print(paralelo)\n",
        "\n",
        "#Realiza uma transformação estrita nos registros\n",
        "mapa = paralelo.map(lambda x : x**2+x)\n",
        "#print(mapa.collect())\n",
        "\n",
        "\n",
        "### MAP REDUCE ###\n",
        "#Lista de strings para RDD\n",
        "\n",
        "arquivo = open('/content/sample_data/words.txt', 'r')\n",
        "palavras = arquivo.readlines()\n",
        "palavras = palavras[0].split(' ')\n",
        "\n",
        "\n",
        "#paralelo_02 = spark_contex.parallelize([\"distribuida\", \"distribuida\", \"spark\", \"rdd\", \"spark\", \"spark\"])\n",
        "paralelo_02= spark_contex.parallelize(palavras)\n",
        "#print(paralelo_02)\n",
        "\n",
        "#Operação Palavra >> Valor = 1\n",
        "funcao_lambda = lambda x:(x,1)\n",
        "\n",
        "#Mapeia (executa função e atribui valor), Reduz (soma chaves similares), Saida (Novo RDD com resultado)\n",
        "from operator import add\n",
        "mapa_02 = paralelo_02.map(funcao_lambda).reduceByKey(add).collect()\n",
        "mapa_02.sort(key = lambda x:x[1], reverse = True)\n",
        "### ###\n",
        "\n",
        "\n",
        "\n",
        "#Crio um vetor com as repetições de palavras\n",
        "valSet =[]\n",
        "for (w, c) in mapa_02:\n",
        "  valSet.append(c)\n",
        "\n",
        "\n",
        "#print(mapa_02)\n",
        "\n",
        "print('*--- Estudo sobre probabilidade randomica do algoritmo Ipsium Lorem ---*\\n')\n",
        "\n",
        "i = valSet.count(mapa_02[0][1])-1\n",
        "print(i+1, \"\\t palavra/s possuem o maior número (\", mapa_02[0][1], \") de repetições :\\t\", end='' )\n",
        "while i >= 0:\n",
        "  print(mapa_02[i][0], end='')\n",
        "  print(' , ', end='') if i>0 else print('')\n",
        "  i = i-1\n",
        "\n",
        "\n",
        "mapa_02.reverse()\n",
        "ii = valSet.count(mapa_02[0][1])-1\n",
        "print(ii+1, \"\\t palavra/s possuem o menor número (\", mapa_02[0][1], \") de repetições :\\t\", end='' )\n",
        "while ii >= 0:\n",
        "  print(mapa_02[ii][0], end='')\n",
        "  print(' , ', end='') if ii>0 else print('')\n",
        "  ii = ii-1\n",
        "\n",
        "\n",
        "print('')\n",
        "\n",
        "media_rep =np.mean(valSet)\n",
        "print('Média de número de repetições por palavra:\\t',media_rep)\n",
        "st_desv = np.std(valSet)\n",
        "print('Desvio padrão:\\t\\t\\t\\t\\t', st_desv)\n",
        "distrib = (np.pi*st_desv) * np.exp(-0.5*((valSet-media_rep)/st_desv)**2)\n",
        "\n",
        "print('Tamanho da amostra:\\t\\t\\t\\t', size(palavras))\n",
        "\n",
        "print('')\n",
        "\n",
        "import matplotlib.pyplot as plt\n",
        "\n",
        "plt.plot(valSet,distrib, color='red')\n",
        "\n",
        "plt.title('Distribuição de repetições no gerador de palavras Ipsium Lorem')\n",
        "plt.xlabel('Numero de repetições')\n",
        "plt.ylabel('Numero de palavras')\n",
        "\n",
        "\n",
        "\n",
        "spark_contex.stop()\n"
      ],
      "metadata": {
        "colab": {
          "base_uri": "https://localhost:8080/",
          "height": 648
        },
        "id": "q0MiQfEK8pq8",
        "outputId": "32860f1a-03c8-4c52-f8d0-053bdff7b902"
      },
      "execution_count": 121,
      "outputs": [
        {
          "output_type": "stream",
          "name": "stdout",
          "text": [
            "*--- Estudo sobre probabilidade randomica do algoritmo Ipsium Lorem ---*\n",
            "\n",
            "2 \t palavra/s possuem o maior número ( 78 ) de repetições :\tet , eu\n",
            "57 \t palavra/s possuem o menor número ( 1 ) de repetições :\tnecSuspendisse , idPhasellus , massaNulla , curae;Aenean , egestasUt , ametNam , metusPraesent , mollisNunc , maurisSed , eleifendFusce , orciIn , estPhasellus , nullaMaecenas , placeratMauris , nisiDonec , facilisi , maximusInteger , nuncPellentesque , semDonec , massaNunc , risusMaecenas , enimPellentesque , feugiatNam , liberoCurabitur , aliquetDonec , lectusUt , duiFusce , dignissimPraesent , volutpatUt , diamPellentesque , anteUt , metusMorbi , egestasQuisque , magnaEtiam , hendreritUt , magnaPhasellus , ligulaPhasellus , dolorIn , inIn , justoSed , nislFusce , nequeInteger , maurisAliquam , aliquamEtiam , faucibusEtiam , ligulaDuis , eleifendSed , variusDuis , justoAliquam , quisVivamus , maximusUt , facilisisPhasellus , risusNunc , odioDonec , rhoncusVestibulum , ligulaCras , portaDonec\n",
            "\n",
            "Média de número de repetições por palavra:\t 19.3046875\n",
            "Desvio padrão:\t\t\t\t\t 17.164215406692605\n",
            "Tamanho da amostra:\t\t\t\t 4942\n",
            "\n"
          ]
        },
        {
          "output_type": "display_data",
          "data": {
            "text/plain": [
              "<Figure size 640x480 with 1 Axes>"
            ],
            "image/png": "[encoded data removed]"
          },
          "metadata": {}
        }
      ]
    }
  ]
}